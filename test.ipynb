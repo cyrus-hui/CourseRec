{
 "cells": [
  {
   "cell_type": "code",
   "execution_count": 2,
   "metadata": {},
   "outputs": [
    {
     "name": "stderr",
     "output_type": "stream",
     "text": [
      "/Library/Frameworks/Python.framework/Versions/3.10/lib/python3.10/site-packages/tqdm/auto.py:21: TqdmWarning: IProgress not found. Please update jupyter and ipywidgets. See https://ipywidgets.readthedocs.io/en/stable/user_install.html\n",
      "  from .autonotebook import tqdm as notebook_tqdm\n"
     ]
    }
   ],
   "source": [
    "import pandas as pd\n",
    "import numpy as np\n",
    "\n",
    "from sentence_transformers import SentenceTransformer\n",
    "from sentence_transformers import util\n",
    "\n",
    "from time import time"
   ]
  },
  {
   "cell_type": "code",
   "execution_count": 3,
   "metadata": {},
   "outputs": [],
   "source": [
    "from sentence_transformers import SentenceTransformer\n",
    "model = SentenceTransformer('all-MiniLM-L6-v2');\n",
    "\n",
    "#Our sentences we like to encode\n",
    "sentences = ['The plant world is essential for human life, and shapes human culture. Plants are food, fuel and raw materials. They transform and sustain the soil, air and water of our ecosystems. They produce molecules that are the active ingredients in herbal medicine, modern pharmacology and psychoactive drugs. Humans alter plants using breeding and biotechnology, and use them to enhance their environments and their cultural activities. Using introductory concepts from the life sciences, this course explores these vital relationships between humans and plants.',\n",
    "    'This course complements SC/CHEM 1000 3.00 - with emphasis on chemical change and equilibrium. Topics include chemical kinetics; chemical equilibrium; entropy and free energy as driving forces for chemical change; electrochemistry; frontiers in chemistry.',\n",
    "    'An intensive introduction for aspiring screenwriters to the subtle but encompassing problems they may expect to encounter when writing for series television. Students will study the form and format of half-hour and one hour episodic comedies and dramas intended to be encompassed as part of a television series. They will also undertake the pitching, outlining and drafting of a single episode; the creation and development of a series proposal; the make up and function of a story department; plus an overview of the industry as a whole. Long form drama including television movies and mini-series will also be examined.',\n",
    "    'Topics include spherical and cylindrical coordinates in Euclidean 3-space, general matrix algebra, determinants, vector space concepts for Euclidean n-space (e.g. linear dependence and independence, basis, dimension, linear transformations etc.), an introduction to eigenvalues and eigenvectors.',\n",
    "    'Covers the fundamentals of marketing theory, concepts and management as applied to marketing\\'s strategic role in meeting customer needs, including product (goods and services), price, promotion, distribution, consumer, segmentation, positioning, ethics, research. Includes the creation of an actual marketing plan.',\n",
    "    'A study of cell biology and aspects of related biochemistry. Topics include membranes, the endomembrane system, the cytoskeleton, cellular motility, the extracellular matrix, intercellular communication and intracellular regulation.',\n",
    "    'An examination of the components and principles of fitness and health with particular attention to the evaluation and modification of fitness and health status.']\n",
    "\n",
    "#Sentences are encoded by calling model.encode()\n",
    "embeddings = model.encode(sentences)\n",
    "\n",
    "courses = ['NATS 1565', 'CHEM 1001', 'FILM 5122', 'MATH 1025', 'ADMS 2200', 'BIOL 2030', 'KINE 1020']"
   ]
  },
  {
   "cell_type": "code",
   "execution_count": 4,
   "metadata": {},
   "outputs": [
    {
     "name": "stdout",
     "output_type": "stream",
     "text": [
      "sentance 0 and 1: tensor([[0.1800]])\n",
      "sentance 0 and 2: tensor([[0.0792]])\n",
      "sentance 1 and 2: tensor([[0.1893]])\n"
     ]
    }
   ],
   "source": [
    "similarity = util.pytorch_cos_sim(embeddings[0, :], embeddings[1, :])\n",
    "print('sentance 0 and 1:', similarity)\n",
    "\n",
    "similarity = util.pytorch_cos_sim(embeddings[0, :], embeddings[2, :])\n",
    "print('sentance 0 and 2:', similarity)\n",
    "\n",
    "similarity = util.pytorch_cos_sim(embeddings[1, :], embeddings[2, :])\n",
    "print('sentance 1 and 2:', similarity)"
   ]
  },
  {
   "cell_type": "code",
   "execution_count": 5,
   "metadata": {},
   "outputs": [],
   "source": [
    "original_topic = 'computer science'\n",
    "embedding_origin = model.encode(original_topic)"
   ]
  },
  {
   "cell_type": "code",
   "execution_count": 6,
   "metadata": {},
   "outputs": [
    {
     "name": "stdout",
     "output_type": "stream",
     "text": [
      "Course:  NATS 1565\n",
      "Sentence: The plant world is essential for human life, and shapes human culture. Plants are food, fuel and raw materials. They tra ...\n",
      "similarity score: tensor([[0.0371]])\n",
      "\n",
      "Course:  CHEM 1001\n",
      "Sentence: This course complements SC/CHEM 1000 3.00 - with emphasis on chemical change and equilibrium. Topics include chemical ki ...\n",
      "similarity score: tensor([[0.2852]])\n",
      "\n",
      "Course:  FILM 5122\n",
      "Sentence: An intensive introduction for aspiring screenwriters to the subtle but encompassing problems they may expect to encounte ...\n",
      "similarity score: tensor([[0.1662]])\n",
      "\n",
      "Course:  MATH 1025\n",
      "Sentence: Topics include spherical and cylindrical coordinates in Euclidean 3-space, general matrix algebra, determinants, vector  ...\n",
      "similarity score: tensor([[0.2250]])\n",
      "\n",
      "Course:  ADMS 2200\n",
      "Sentence: Covers the fundamentals of marketing theory, concepts and management as applied to marketing's strategic role in meeting ...\n",
      "similarity score: tensor([[0.1263]])\n",
      "\n",
      "Course:  BIOL 2030\n",
      "Sentence: A study of cell biology and aspects of related biochemistry. Topics include membranes, the endomembrane system, the cyto ...\n",
      "similarity score: tensor([[0.1268]])\n",
      "\n",
      "Course:  KINE 1020\n",
      "Sentence: An examination of the components and principles of fitness and health with particular attention to the evaluation and mo ...\n",
      "similarity score: tensor([[0.0431]])\n",
      "\n"
     ]
    }
   ],
   "source": [
    "score = []\n",
    "\n",
    "for sentence, embedding, course in zip(sentences, embeddings, courses):\n",
    "    similarity = util.pytorch_cos_sim(embedding_origin, embedding)\n",
    "    \n",
    "    print('Course: ', course)\n",
    "    print(\"Sentence:\", sentence[:120], '...')\n",
    "    print(\"similarity score:\", similarity)\n",
    "    print(\"\")\n",
    "    score.append(similarity)\n",
    "\n"
   ]
  }
 ],
 "metadata": {
  "kernelspec": {
   "display_name": "Python 3",
   "language": "python",
   "name": "python3"
  },
  "language_info": {
   "codemirror_mode": {
    "name": "ipython",
    "version": 3
   },
   "file_extension": ".py",
   "mimetype": "text/x-python",
   "name": "python",
   "nbconvert_exporter": "python",
   "pygments_lexer": "ipython3",
   "version": "3.10.7"
  },
  "orig_nbformat": 4
 },
 "nbformat": 4,
 "nbformat_minor": 2
}
