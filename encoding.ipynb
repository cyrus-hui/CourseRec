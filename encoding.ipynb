{
 "cells": [
  {
   "cell_type": "code",
   "execution_count": 28,
   "metadata": {},
   "outputs": [],
   "source": [
    "from tqdm import tqdm\n",
    "import os\n",
    "import json\n",
    "import numpy as np\n",
    "from sentence_transformers import SentenceTransformer\n",
    "\n",
    "\n",
    "folder_path = \"/Users/cyrushui/Documents/Project/CourseRecommend/backend/course_json_2023_2024\"\n",
    "value_course = \"course\"\n",
    "\n",
    "desc_list = []\n",
    "course_list = []\n",
    "\n",
    "for filename in os.listdir(folder_path):\n",
    "  if filename.endswith(\".json\"):\n",
    "    file_path = os.path.join(folder_path, filename)\n",
    "    with open(file_path) as json_file:\n",
    "      try:\n",
    "        data = json.load(json_file)\n",
    "        dept_course = data.get(\"courses\")\n",
    "        for course in dept_course:\n",
    "          key = course.get(\"key\")\n",
    "          name = course.get(\"name\")\n",
    "          desc = course.get(\"desc\")\n",
    "          if len(desc) < 15:\n",
    "            continue\n",
    "          faculty = key.get(\"faculty\").upper()\n",
    "          dept = key.get(\"dept\").upper()\n",
    "          code = key.get(\"code\")\n",
    "          level = int(code[0])\n",
    "          if level >= 5:\n",
    "            continue\n",
    "          credit = str(key.get(\"credit\"))\n",
    "          course_name = f\"{faculty}/{dept} {code} {name} {credit}\"\n",
    "          course_list.append(course_name)\n",
    "          desc_list.append(desc)\n",
    "      except json.JSONDecodeError as e:\n",
    "        print(f\"Error decoding JSON in {filename}: {e}\")\n",
    "      except KeyError:\n",
    "        print(f\"not found\")\n",
    "\n",
    "# print(len(course_list))\n",
    "# print(len(desc_list))\n"
   ]
  },
  {
   "cell_type": "code",
   "execution_count": 29,
   "metadata": {},
   "outputs": [],
   "source": [
    "model = SentenceTransformer('all-MiniLM-L6-v2');\n",
    "\n",
    "np.save(\"course.npy\", course_list)\n",
    "#Course desc are encoded by calling model.encode()\n",
    "embeddings = model.encode(desc_list)\n",
    "np.save(\"embeddings.npy\", embeddings)"
   ]
  }
 ],
 "metadata": {
  "kernelspec": {
   "display_name": "Python 3",
   "language": "python",
   "name": "python3"
  },
  "language_info": {
   "codemirror_mode": {
    "name": "ipython",
    "version": 3
   },
   "file_extension": ".py",
   "mimetype": "text/x-python",
   "name": "python",
   "nbconvert_exporter": "python",
   "pygments_lexer": "ipython3",
   "version": "3.10.7"
  },
  "orig_nbformat": 4
 },
 "nbformat": 4,
 "nbformat_minor": 2
}
